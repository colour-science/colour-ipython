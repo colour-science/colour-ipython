{
 "cells": [
  {
   "cell_type": "markdown",
   "metadata": {},
   "source": [
    "# !!! D . R . A . F . T !!!"
   ]
  },
  {
   "cell_type": "markdown",
   "metadata": {},
   "source": [
    "# Chromatic Adaptation"
   ]
  },
  {
   "cell_type": "markdown",
   "metadata": {},
   "source": [
    "Adaptation is the process of change by which an organism becomes better suited to its environment. \n",
    "\n",
    "In the context of colour science, it is defined as the process by which the state of the visual system is modified by previous and present exposure to stimuli that may have various luminance values, spectral distributions and angular subtenses. <a name=\"back_reference_1\"></a><a href=\"#reference_1\">[1]</a>\n",
    "\n",
    "The three essential types of adaptation for human vision are:\n",
    "\n",
    "*  Dark adaptation\n",
    "*  Light adaptation\n",
    "*  Chromatic adaptation"
   ]
  },
  {
   "cell_type": "markdown",
   "metadata": {},
   "source": [
    "### Dark Adaptation"
   ]
  },
  {
   "cell_type": "markdown",
   "metadata": {},
   "source": [
    "Dark adaptation happens when the luminance level decreases and as the result of the lack of illumination, the observer visual system adapts to the stimulus and the visual sensitivity increases.\n",
    "\n",
    "When entering a dark area, initially, the [cone cells](http://en.wikipedia.org/wiki/Cone_cell) sensitivity increases to reach full adaptation after around 10 minutes, then the [rod cells](http://en.wikipedia.org/wiki/Rod_cell) sensitivity outperforms the cones and reach complete adaptation after 30 minutes. <a name=\"back_reference_2\"></a><a href=\"#reference_2\">[2]</a> <a name=\"back_reference_3\"></a><a href=\"#reference_3\">[3]</a> <a name=\"back_reference_4\"></a><a href=\"#reference_4\">[4]</a>\n",
    "\n",
    "A notable effect of rod cells driving the visual system at low luminance level is that humans become colour-blind in those low lighting conditions."
   ]
  },
  {
   "cell_type": "markdown",
   "metadata": {},
   "source": [
    "### Light Adaptation"
   ]
  },
  {
   "cell_type": "markdown",
   "metadata": {},
   "source": [
    "Light adaptation is similar to dark adaption but instead the visual sensitivity decreases with luminance level increase.\n",
    "\n",
    "The adaptation process happening when entering a bright area is faster than dark adaptation and occurs in around 5 minutes. The rod cells first saturate as [rhodopsin](http://en.wikipedia.org/wiki/Rhodopsin) *photobleaches*, while the cone cells continue to adapt reaching peak sensitivity after 5-10 minutes. <a name=\"back_reference_4\"></a><a href=\"#reference_4\">[4]</a> <a name=\"back_reference_5\"></a><a href=\"#reference_5\">[5]</a> <a name=\"back_reference_6\"></a><a href=\"#reference_6\">[6]</a> "
   ]
  },
  {
   "cell_type": "markdown",
   "metadata": {},
   "source": [
    "### Chromatic Adaptation"
   ]
  },
  {
   "cell_type": "markdown",
   "metadata": {},
   "source": [
    "Chromatic adaptation is defined as the visual process whereby approximate compensation is made for changes in the colours of stimuli, especially in the case of changes in illuminants. <a name=\"back_reference_7\"></a><a href=\"#reference_7\">[7]</a> \n",
    "\n",
    "Chromatic adaptation controls the independent sensitivity of the three cones cells type and is the most inportant adaptation mechanism in colour appearance. A white object viewed under different lighting conditions (daylight, tungsten or incandescent lighting) will retain its white appearance because the sensitivity of the cone cells is independently adjusted to compensate for the changes in energy level at the wavelengths ranges they are sensitive to.\n",
    "\n",
    "Chromatic adaptation can be thought of as analogous to automatic white balancing feature of a digital still camera.<a name=\"back_reference_8\"></a><a href=\"#reference_8\">[8]</a>"
   ]
  },
  {
   "cell_type": "markdown",
   "metadata": {},
   "source": [
    "## Johannes Von Kries Hypothesis"
   ]
  },
  {
   "cell_type": "markdown",
   "metadata": {},
   "source": [
    "Chromatic adaptation models are based on physiological plausible representations of cone responses signals. All modern chromatic adaptation models build upon Von Kries (1902) hypothesis: <a name=\"back_reference_9\"></a><a href=\"#reference_9\">[9]</a>\n",
    "\n",
    "> This can be conceived in the sense that the individual components present in the organ of vision are completely independent of one another and each is fatigued or adapted exclusively according to its own function (Translation by MacAdam 1970: 118).\n",
    "\n",
    "The modern interpretation of Von Kries (1902) hypothesis, the *Von Kries Coefficient Law*, defines the following relationship: <a name=\"back_reference_10\"></a><a href=\"#reference_10\">[10]</a>\n",
    "\n",
    "$$\n",
    "\\begin{equation}\n",
    "\\begin{vmatrix}\n",
    "L_a\\\\\n",
    "M_a\\\\\n",
    "S_a\n",
    "\\end{vmatrix}=\n",
    "\\begin{vmatrix}\n",
    "k_L&0.0&0.0\\\\\n",
    "0.0&k_M&0.0\\\\\n",
    "0.0&0.0&k_S\n",
    "\\end{vmatrix}\n",
    "\\begin{vmatrix}\n",
    "L\\\\\n",
    "M\\\\\n",
    "S\n",
    "\\end{vmatrix}\n",
    "\\end{equation}\n",
    "$$\n",
    "\n",
    "or\n",
    "\n",
    "$$\n",
    "\\begin{equation}\n",
    "\\begin{aligned}\n",
    "L_a&\\ =k_L\\cdot L\\\\\n",
    "M_a&\\ =k_M\\cdot M\\\\\n",
    "S_a&\\ =k_S\\cdot S\n",
    "\\end{aligned}\n",
    "\\end{equation}\n",
    "$$\n",
    "\n",
    "with\n",
    "\n",
    "$$\n",
    "\\begin{equation}\n",
    "k_L=\\cfrac{1}{L_{max}},\\qquad k_M=\\cfrac{1}{M_{max}},\\qquad k_S=\\cfrac{1}{S_{max}}\n",
    "\\end{equation}\n",
    "$$\n",
    "\n",
    "or\n",
    "\n",
    "$$\n",
    "\\begin{equation}\n",
    "k_L=\\cfrac{1}{L_{white}},\\qquad k_M=\\cfrac{1}{M_{white}},\\qquad k_S=\\cfrac{1}{S_{white}}\n",
    "\\end{equation}\n",
    "$$\n",
    "\n",
    "where $L_a$, $M_a$ and $S_a$ are the post-adaptation cones signals and $k_L$, $k_M$ and $k_S$ are the coefficients used to scale the initial cone signals $L$, $M$ and $S$.\n",
    "\n",
    "Given the above equations, the *Von Kries Coefficient Law* can be used to compute *corresponding colour stimuli* between two different viewing conditions.\n",
    "\n",
    "The *CIE* defines *corresponding colour stimuli* as pairs of colour stimuli that have same colour appearance when one is seen in one set of adaptation conditions and the other is seen in a different set. <a name=\"back_reference_11\"></a><a href=\"#reference_11\">[11]</a>\n",
    "\n",
    "Computing the *corresponding colour stimuli* is done as follows:\n",
    "\n",
    "Post-adaptation signals are computed for the two viewing conditions, then, the first viewing condition post-adaptation signals are set equal to the second viewing condition post-adaptation signals, finally the model is reversed for the second viewing condition:\n",
    "\n",
    "$$\n",
    "\\begin{equation}\n",
    "\\begin{vmatrix}\n",
    "X_2\\\\\n",
    "Y_2\\\\\n",
    "Z_2\n",
    "\\end{vmatrix}=\n",
    "\\textbf{M}^{-1}\n",
    "\\begin{vmatrix}\n",
    "L_{max2}&0.0&0.0\\\\\n",
    "0.0&M_{max2}&0.0\\\\\n",
    "0.0&0.0&S_{max2}\n",
    "\\end{vmatrix}\n",
    "\\begin{vmatrix}\n",
    "k_L&0.0&0.0\\\\\n",
    "0.0&k_M&0.0\\\\\n",
    "0.0&0.0&k_S\n",
    "\\end{vmatrix}\n",
    "\\textbf{M}\n",
    "\\begin{vmatrix}\n",
    "X\\\\\n",
    "Y\\\\\n",
    "Z\n",
    "\\end{vmatrix}\n",
    "\\end{equation}\n",
    "$$\n",
    "\n",
    "with\n",
    "\n",
    "$$\n",
    "\\begin{equation}\n",
    "L_2=\\biggl(\\cfrac{L_1}{L_{max1}}\\biggr)L_{max2},\\qquad M_2=\\biggl(\\cfrac{M_1}{M_{max1}}\\biggr)M_{max2},\\qquad S_2=\\biggl(\\cfrac{S_1}{S_{max1}}\\biggr)S_{max2}\n",
    "\\end{equation}\n",
    "$$\n",
    "\n",
    "where $\\textbf{M}$ is the *chromatic adaptation transform* matrix converting from *CIE XYZ* tristimulus values to relative cone responses $LMS$.\n",
    "\n",
    "[Colour](https://github.com/colour-science/colour/) defines the following *chromatic adaptation transforms*:"
   ]
  },
  {
   "cell_type": "code",
   "execution_count": 1,
   "metadata": {},
   "outputs": [
    {
     "name": "stdout",
     "output_type": "stream",
     "text": [
      "['Bianco', 'Bianco PC', 'Bradford', 'CAT02', 'CAT02_BRILL_CAT', 'CMCCAT2000', 'CMCCAT97', 'Fairchild', 'Sharp', 'Von Kries', 'XYZ Scaling']\n"
     ]
    }
   ],
   "source": [
    "import colour\n",
    "\n",
    "print(sorted(colour.CHROMATIC_ADAPTATION_TRANSFORMS))"
   ]
  },
  {
   "cell_type": "markdown",
   "metadata": {},
   "source": [
    "## Johannes Von Kries Chromatic Adaptation Transform"
   ]
  },
  {
   "cell_type": "markdown",
   "metadata": {},
   "source": [
    "## Bibliography"
   ]
  },
  {
   "cell_type": "markdown",
   "metadata": {},
   "source": [
    "1. <a href=\"#back_reference_1\">^<a> <a name=\"reference_1\"></a>CIE. (n.d.). 17-18 adaptation. Retrieved September 07, 2014, from http://eilv.cie.co.at/term/18\n",
    "2. <a href=\"#back_reference_2\">^<a> <a name=\"reference_2\"></a>Wikipedia. (n.d.). Dark adaptation. Retrieved September 07, 2014, from http://en.wikipedia.org/wiki/Adaptation_(eye)#Dark_Adaptation\n",
    "3. <a href=\"#back_reference_3\">^<a> <a name=\"reference_3\"></a>Fairchild, M. D. (2013). Dark Adaptation. In *Color Appearance Models* (3rd ed., p. 985,3749). Wiley. ASIN:B00DAYO8E2\n",
    "4. <a href=\"#back_reference_4\">^<a> <a name=\"reference_4\"></a>Kalloniatis, M., & Luu, C. (n.d.). Light and Dark Adaptation. Retrieved September 07, 2014, from http://webvision.med.utah.edu/book/part-viii-gabac-receptors/light-and-dark-adaptation/\n",
    "5. <a href=\"#back_reference_5\">^<a> <a name=\"reference_5\"></a>Wikipedia. (n.d.). Light adaptation. Retrieved September 07, 2014, from http://en.wikipedia.org/wiki/Adaptation_(eye)#Light_Adaptation\n",
    "6. <a href=\"#back_reference_6\">^<a> <a name=\"reference_6\"></a>Fairchild, M. D. (2013). Light Adaptation. In *Color Appearance Models* (3rd ed., p. 1006,3728). Wiley. ASIN:B00DAYO8E2\n",
    "7. <a href=\"#back_reference_7\">^<a> <a name=\"reference_7\"></a>CIE. (n.d.). 17-140 chromatic adaptation. Retrieved September 07, 2014, from http://eilv.cie.co.at/term/140\n",
    "8. <a href=\"#back_reference_8\">^<a> <a name=\"reference_8\"></a>Fairchild, M. D. (2013). Chromatic Adaptation. In *Color Appearance Models* (3rd ed., p. 1029,3749). Wiley. ASIN:B00DAYO8E2\n",
    "9. <a href=\"#back_reference_9\">^<a> <a name=\"reference_9\"></a>Fairchild, M. D. (2013). VON KRIES MODEL. In *Color Appearance Models* (3rd ed., p. 4204). Wiley. ASIN:B00DAYO8E2\n",
    "10. <a href=\"#back_reference_10\">^<a> <a name=\"reference_10\"></a>Fairchild, M. D. (2013). Equations 9.1-9.11. In *Color Appearance Models* (3rd ed., pp. 4225–4262). Wiley. ASIN:B00DAYO8E2\n",
    "11. <a href=\"#back_reference_11\">^<a> <a name=\"reference_11\"></a>CIE. (n.d.). 17-260 corresponding colour stimuli. Retrieved September 07, 2014, from http://eilv.cie.co.at/term/260"
   ]
  }
 ],
 "metadata": {
  "anaconda-cloud": {},
  "kernelspec": {
   "display_name": "Python 3",
   "language": "python",
   "name": "python3"
  },
  "language_info": {
   "codemirror_mode": {
    "name": "ipython",
    "version": 3
   },
   "file_extension": ".py",
   "mimetype": "text/x-python",
   "name": "python",
   "nbconvert_exporter": "python",
   "pygments_lexer": "ipython3",
   "version": "3.7.4"
  }
 },
 "nbformat": 4,
 "nbformat_minor": 1
}
